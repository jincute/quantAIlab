{
 "cells": [
  {
   "cell_type": "code",
   "execution_count": 3,
   "metadata": {},
   "outputs": [],
   "source": [
    "import pandas as pd\n",
    "import yfinance as yf\n",
    "import matplotlib.pyplot as plt\n",
    "pd.options.mode.chained_assignment = None"
   ]
  },
  {
   "cell_type": "code",
   "execution_count": 11,
   "metadata": {},
   "outputs": [],
   "source": [
    "# tickers = pd.read_html('https://en.wikipedia.org/wiki/List_of_S%26P_500_companies')[0]\n",
    "# tickers = tickers.Symbol.to_list()\n",
    "\n",
    "# tickers = ['CRM', 'COST', 'ARKK', 'MSFT', 'TSLA','NTES','NTDOY','ASML','NVDA']\n",
    "tickers = pd.read_csv('data/df_rsi.csv')"
   ]
  },
  {
   "cell_type": "code",
   "execution_count": 12,
   "metadata": {},
   "outputs": [],
   "source": [
    "tickers = tickers.Symbol.to_list()"
   ]
  },
  {
   "cell_type": "code",
   "execution_count": 13,
   "metadata": {},
   "outputs": [
    {
     "data": {
      "text/plain": [
       "['CRM', 'COST', 'ARKK', 'MSFT', 'TSLA', 'NTES', 'NTDOY', 'ASML', 'NVDA']"
      ]
     },
     "execution_count": 13,
     "metadata": {},
     "output_type": "execute_result"
    }
   ],
   "source": [
    "tickers = [i.replace('.','-') for i in tickers] # BRK.B -> BRK-B\n",
    "tickers"
   ]
  },
  {
   "cell_type": "code",
   "execution_count": 14,
   "metadata": {},
   "outputs": [
    {
     "name": "stdout",
     "output_type": "stream",
     "text": [
      "9\n"
     ]
    }
   ],
   "source": [
    "tickers\n",
    "print(len(tickers)) # 505 S&P500 stocks"
   ]
  },
  {
   "cell_type": "code",
   "execution_count": 15,
   "metadata": {},
   "outputs": [],
   "source": [
    "def RSIcalc(asset):\n",
    "    df = yf.download(asset,start='2011-01-01')\n",
    "    df['MA200'] = df['Adj Close'].rolling(window=200).mean() # mean of the last 200 days\n",
    "    \n",
    "    # relative return\n",
    "    df['price change'] = df['Adj Close'].pct_change() # get the daily return\n",
    "    df['Upmove'] = df['price change'].apply(lambda x: x if x>0 else 0)\n",
    "    df['Downmove'] = df['price change'].apply(lambda x: abs(x) if x < 0 else 0)\n",
    "    \n",
    "    # 移动平均线(MA:Moving Average): 将一定时期内的证券价格（指数）加以平均\n",
    "    # 并把不同时间的平均值连接起来，形成一根MA，用以观察证券价格变动趋势的一种技术指标。\n",
    "    # Exponential moving average\n",
    "    df['avg Up'] = df['Upmove'].ewm(span=19).mean()  # ewm, exponential moving average\n",
    "    df['avg Down'] = df['Downmove'].ewm(span=19).mean()\n",
    "    \n",
    "    df = df.dropna()\n",
    "    \n",
    "    df['RS'] = df['avg Up'] / df['avg Down']\n",
    "    df['RSI'] = df['RS'].apply(lambda x: 100-(100/(x+1)))\n",
    "    \n",
    "    if not df.empty:\n",
    "        # make decision\n",
    "        df.loc[(df['Adj Close'] > df['MA200']) & (df['RSI'] < 30), 'Buy'] = 'Yes'\n",
    "        df.loc[(df['Adj Close'] < df['MA200']) | (df['RSI'] > 30), 'Buy'] = 'No'\n",
    "    return df"
   ]
  },
  {
   "cell_type": "code",
   "execution_count": 83,
   "metadata": {},
   "outputs": [
    {
     "name": "stdout",
     "output_type": "stream",
     "text": [
      "[*********************100%***********************]  1 of 1 completed\n",
      "                 Open       High        Low      Close  Adj Close   Volume  \\\n",
      "Date                                                                         \n",
      "2011-10-17  32.437500  32.904999  31.572500  31.680000  31.680000  7901600   \n",
      "2011-10-18  31.535000  32.709999  30.750000  32.384998  32.384998  9135200   \n",
      "2011-10-19  32.142502  32.904999  31.677500  31.842501  31.842501  7756000   \n",
      "2011-10-20  31.702499  32.365002  31.139999  31.920000  31.920000  6074800   \n",
      "2011-10-21  32.272499  32.455002  31.677500  32.322498  32.322498  6832400   \n",
      "2011-10-24  31.727501  33.237499  31.727501  33.132500  33.132500  8055200   \n",
      "2011-10-25  32.645000  32.962502  32.150002  32.389999  32.389999  8303200   \n",
      "\n",
      "                MA200  price change    Upmove  Downmove    avg Up  avg Down  \\\n",
      "Date                                                                          \n",
      "2011-10-17  33.733013     -0.038543  0.000000  0.038543  0.013426  0.011039   \n",
      "2011-10-18  33.724188      0.022254  0.022254  0.000000  0.014309  0.009935   \n",
      "2011-10-19  33.713788     -0.016752  0.000000  0.016752  0.012878  0.010617   \n",
      "2011-10-20  33.695638      0.002434  0.002434  0.000000  0.011834  0.009555   \n",
      "2011-10-21  33.678075      0.012610  0.012610  0.000000  0.011911  0.008600   \n",
      "2011-10-24  33.665963      0.025060  0.025060  0.000000  0.013226  0.007740   \n",
      "2011-10-25  33.649613     -0.022410  0.000000  0.022410  0.011903  0.009207   \n",
      "\n",
      "                  RS        RSI Buy  \n",
      "Date                                 \n",
      "2011-10-17  1.216240  54.878536  No  \n",
      "2011-10-18  1.440232  59.020284  No  \n",
      "2011-10-19  1.212986  54.812181  No  \n",
      "2011-10-20  1.238457  55.326380  No  \n",
      "2011-10-21  1.385088  58.072834  No  \n",
      "2011-10-24  1.708878  63.084349  No  \n",
      "2011-10-25  1.292917  56.387432  No  \n"
     ]
    }
   ],
   "source": [
    "frame = RSIcalc(tickers[0])\n",
    "print(frame.head(7))"
   ]
  },
  {
   "cell_type": "code",
   "execution_count": 84,
   "metadata": {},
   "outputs": [],
   "source": [
    "def getSignals(df):\n",
    "    Buying_dates = []\n",
    "    Selling_dates = []\n",
    "    \n",
    "    for i in range(len(df)-11):\n",
    "        if \"Yes\" in df['Buy'].iloc[i]:\n",
    "            Buying_dates.append(df.iloc[i+1].name)\n",
    "            for j in range(1,11):\n",
    "                if df['RSI'].iloc[i+j] > 30:\n",
    "                    Selling_dates.append(df.iloc[i+j+1].name)\n",
    "                    break\n",
    "                elif j == 10:\n",
    "                    Selling_dates.append(df.iloc[i+j+1].name)\n",
    "                    \n",
    "    return Buying_dates, Selling_dates"
   ]
  },
  {
   "cell_type": "code",
   "execution_count": null,
   "metadata": {},
   "outputs": [],
   "source": [
    "import time,datetime\n",
    "import telepot\n",
    "from telepot.loop import MessageLoop\n",
    "\n",
    "now = datetime.datetime.now()\n",
    "telegram_bot = telepot.Bot('1690062356:AAFFxkzkjW4dPOBKSuxq8BY5Bwepzp2zDao')"
   ]
  },
  {
   "cell_type": "code",
   "execution_count": 39,
   "metadata": {},
   "outputs": [],
   "source": [
    "# frame = RSIcalc(tickers[1])\n",
    "# if 'No' in frame.tail(1).Buy.values:\n",
    "#     print('not buy')\n",
    "\n",
    "def alertBuySignal(df,stock):\n",
    "    if 'No' in df.tail(1).Buy.values:\n",
    "        test_text = stock + ': Not buy'\n",
    "#         print(test_text)\n",
    "        telegram_bot.sendMessage('351230752',test_text) #chat_id"
   ]
  },
  {
   "cell_type": "code",
   "execution_count": 40,
   "metadata": {},
   "outputs": [
    {
     "name": "stdout",
     "output_type": "stream",
     "text": [
      "[*********************100%***********************]  1 of 1 completed\n",
      "CRM: Not buy\n",
      "[*********************100%***********************]  1 of 1 completed\n",
      "COST: Not buy\n",
      "[*********************100%***********************]  1 of 1 completed\n",
      "ARKK: Not buy\n",
      "[*********************100%***********************]  1 of 1 completed\n",
      "MSFT: Not buy\n",
      "[*********************100%***********************]  1 of 1 completed\n",
      "TSLA: Not buy\n",
      "[*********************100%***********************]  1 of 1 completed\n",
      "NTES: Not buy\n",
      "[*********************100%***********************]  1 of 1 completed\n",
      "NTDOY: Not buy\n",
      "[*********************100%***********************]  1 of 1 completed\n",
      "ASML: Not buy\n",
      "[*********************100%***********************]  1 of 1 completed\n",
      "NVDA: Not buy\n"
     ]
    }
   ],
   "source": [
    "# frame = tickers[0]\n",
    "# alertBuySignal(frame)\n",
    "\n",
    "for i in range(len(tickers)):\n",
    "    frame = RSIcalc(tickers[i])\n",
    "    \n",
    "    alertBuySignal(frame,tickers[i])"
   ]
  },
  {
   "cell_type": "code",
   "execution_count": 85,
   "metadata": {},
   "outputs": [
    {
     "name": "stdout",
     "output_type": "stream",
     "text": [
      "[*********************100%***********************]  1 of 1 completed\n"
     ]
    }
   ],
   "source": [
    "# example\n",
    "frame = RSIcalc(tickers[0])\n",
    "buy, sell = getSignals(frame)"
   ]
  },
  {
   "cell_type": "code",
   "execution_count": 86,
   "metadata": {},
   "outputs": [
    {
     "data": {
      "text/plain": [
       "[Timestamp('2012-05-11 00:00:00'),\n",
       " Timestamp('2012-05-15 00:00:00'),\n",
       " Timestamp('2012-05-18 00:00:00'),\n",
       " Timestamp('2016-01-08 00:00:00'),\n",
       " Timestamp('2016-06-28 00:00:00'),\n",
       " Timestamp('2016-08-18 00:00:00'),\n",
       " Timestamp('2018-03-26 00:00:00'),\n",
       " Timestamp('2018-10-11 00:00:00'),\n",
       " Timestamp('2018-10-12 00:00:00'),\n",
       " Timestamp('2020-02-28 00:00:00'),\n",
       " Timestamp('2020-03-02 00:00:00'),\n",
       " Timestamp('2020-12-03 00:00:00'),\n",
       " Timestamp('2020-12-04 00:00:00'),\n",
       " Timestamp('2020-12-10 00:00:00')]"
      ]
     },
     "execution_count": 86,
     "metadata": {},
     "output_type": "execute_result"
    }
   ],
   "source": [
    "buy"
   ]
  },
  {
   "cell_type": "code",
   "execution_count": 87,
   "metadata": {},
   "outputs": [
    {
     "data": {
      "text/plain": [
       "DatetimeIndex(['2012-05-11', '2012-05-15', '2012-05-18', '2016-01-08',\n",
       "               '2016-06-28', '2016-08-18', '2018-03-26', '2018-10-11',\n",
       "               '2018-10-12', '2020-02-28', '2020-03-02', '2020-12-03',\n",
       "               '2020-12-04', '2020-12-10'],\n",
       "              dtype='datetime64[ns]', name='Date', freq=None)"
      ]
     },
     "execution_count": 87,
     "metadata": {},
     "output_type": "execute_result"
    }
   ],
   "source": [
    "frame.loc[buy].index"
   ]
  },
  {
   "cell_type": "code",
   "execution_count": 88,
   "metadata": {},
   "outputs": [
    {
     "data": {
      "text/plain": [
       "DatetimeIndex(['2012-05-14', '2012-05-16', '2012-05-21', '2016-01-13',\n",
       "               '2016-06-29', '2016-08-19', '2018-03-27', '2018-10-15',\n",
       "               '2018-10-15', '2020-03-03', '2020-03-03', '2020-12-07',\n",
       "               '2020-12-07', '2020-12-11'],\n",
       "              dtype='datetime64[ns]', name='Date', freq=None)"
      ]
     },
     "execution_count": 88,
     "metadata": {},
     "output_type": "execute_result"
    }
   ],
   "source": [
    "frame.loc[sell].index"
   ]
  },
  {
   "cell_type": "code",
   "execution_count": 89,
   "metadata": {},
   "outputs": [
    {
     "data": {
      "text/plain": [
       "[<matplotlib.lines.Line2D at 0x7f975d069210>]"
      ]
     },
     "execution_count": 89,
     "metadata": {},
     "output_type": "execute_result"
    },
    {
     "data": {
      "image/png": "[encoded data removed]",
      "text/plain": [
       "<Figure size 864x360 with 1 Axes>"
      ]
     },
     "metadata": {
      "needs_background": "light"
     },
     "output_type": "display_data"
    }
   ],
   "source": [
    "# visual the buy data\n",
    "plt.figure(figsize=(12,5))\n",
    "plt.scatter(frame.loc[buy].index, frame.loc[buy]['Adj Close'], marker = '^', c='g')\n",
    "plt.scatter(frame.loc[sell].index, frame.loc[sell]['Adj Close'], marker = '*', c='r')\n",
    "plt.plot(frame['Adj Close'], alpha=0.7)"
   ]
  },
  {
   "cell_type": "code",
   "execution_count": 90,
   "metadata": {},
   "outputs": [
    {
     "data": {
      "text/plain": [
       "[Timestamp('2012-05-14 00:00:00'),\n",
       " Timestamp('2012-05-16 00:00:00'),\n",
       " Timestamp('2012-05-21 00:00:00'),\n",
       " Timestamp('2016-01-13 00:00:00'),\n",
       " Timestamp('2016-06-29 00:00:00'),\n",
       " Timestamp('2016-08-19 00:00:00'),\n",
       " Timestamp('2018-03-27 00:00:00'),\n",
       " Timestamp('2018-10-15 00:00:00'),\n",
       " Timestamp('2018-10-15 00:00:00'),\n",
       " Timestamp('2020-03-03 00:00:00'),\n",
       " Timestamp('2020-03-03 00:00:00'),\n",
       " Timestamp('2020-12-07 00:00:00'),\n",
       " Timestamp('2020-12-07 00:00:00'),\n",
       " Timestamp('2020-12-11 00:00:00')]"
      ]
     },
     "execution_count": 90,
     "metadata": {},
     "output_type": "execute_result"
    }
   ],
   "source": [
    "sell"
   ]
  },
  {
   "cell_type": "code",
   "execution_count": 91,
   "metadata": {},
   "outputs": [],
   "source": [
    "Profits = (frame.loc[sell].Open.values - frame.loc[buy].Open.values)/frame.loc[buy].Open.values"
   ]
  },
  {
   "cell_type": "code",
   "execution_count": 92,
   "metadata": {},
   "outputs": [
    {
     "data": {
      "text/plain": [
       "array([0.00799398, 0.00845925, 0.00481073, 0.00280823, 0.00902639,\n",
       "       0.00458293, 0.01564613, 0.06737481, 0.00637986, 0.08133825,\n",
       "       0.03606276, 0.00884525, 0.01916716, 0.00612046])"
      ]
     },
     "execution_count": 92,
     "metadata": {},
     "output_type": "execute_result"
    }
   ],
   "source": [
    "Profits"
   ]
  },
  {
   "cell_type": "code",
   "execution_count": 93,
   "metadata": {},
   "outputs": [],
   "source": [
    "wins = [i for i in Profits if i > 0]"
   ]
  },
  {
   "cell_type": "code",
   "execution_count": 94,
   "metadata": {},
   "outputs": [
    {
     "data": {
      "text/plain": [
       "1.0"
      ]
     },
     "execution_count": 94,
     "metadata": {},
     "output_type": "execute_result"
    }
   ],
   "source": [
    "len(wins)/len(Profits)"
   ]
  },
  {
   "cell_type": "code",
   "execution_count": 95,
   "metadata": {},
   "outputs": [
    {
     "data": {
      "text/plain": [
       "14"
      ]
     },
     "execution_count": 95,
     "metadata": {},
     "output_type": "execute_result"
    }
   ],
   "source": [
    "len(Profits) # 10 years only 37 trades"
   ]
  },
  {
   "cell_type": "code",
   "execution_count": 100,
   "metadata": {},
   "outputs": [
    {
     "name": "stdout",
     "output_type": "stream",
     "text": [
      "[*********************100%***********************]  1 of 1 completed\n",
      "stock [CRM] win rate is: 1.0\n",
      "[*********************100%***********************]  1 of 1 completed\n",
      "stock [COST] win rate is: 0.6037735849056604\n",
      "[*********************100%***********************]  1 of 1 completed\n",
      "stock [ARKK] win rate is: 0.42857142857142855\n",
      "[*********************100%***********************]  1 of 1 completed\n",
      "stock [MSFT] win rate is: 0.6666666666666666\n",
      "[*********************100%***********************]  1 of 1 completed\n",
      "stock [TSLA] win rate is: 0.6923076923076923\n",
      "[*********************100%***********************]  1 of 1 completed\n",
      "stock [NTES] win rate is: 0.8333333333333334\n",
      "[*********************100%***********************]  1 of 1 completed\n",
      "stock [NTDOY] win rate is: 0.6296296296296297\n",
      "[*********************100%***********************]  1 of 1 completed\n",
      "stock [ASML] win rate is: 0.72\n",
      "[*********************100%***********************]  1 of 1 completed\n",
      "stock [NVDA] win rate is: 0.8275862068965517\n"
     ]
    }
   ],
   "source": [
    "matrixsignals = []\n",
    "matrixprofits = []\n",
    "\n",
    "for i in range(len(tickers)):\n",
    "    frame = RSIcalc(tickers[i])\n",
    "    buy, sell = getSignals(frame)\n",
    "    Profits = (frame.loc[sell].Open.values - frame.loc[buy].Open.values)/frame.loc[buy].Open.values\n",
    "    wins = [i for i in Profits if i > 0]\n",
    "    win_rate = len(wins)/len(Profits)\n",
    "    print(f'stock [{tickers[i]}] win rate is: {win_rate}')\n",
    "    matrixsignals.append(buy)\n",
    "    matrixprofits.append(Profits)\n",
    "    \n",
    "    "
   ]
  },
  {
   "cell_type": "code",
   "execution_count": 97,
   "metadata": {},
   "outputs": [
    {
     "data": {
      "text/plain": [
       "0.7024793388429752"
      ]
     },
     "execution_count": 97,
     "metadata": {},
     "output_type": "execute_result"
    }
   ],
   "source": [
    "len(matrixprofits)\n",
    "\n",
    "allprofit = []\n",
    "for i in matrixprofits:\n",
    "    for e in i:\n",
    "        allprofit.append(e)\n",
    "        \n",
    "wins = [i for i in allprofit if i > 0]\n",
    "len(wins)/len(allprofit)  # calc win rate"
   ]
  },
  {
   "cell_type": "code",
   "execution_count": 98,
   "metadata": {},
   "outputs": [
    {
     "data": {
      "image/png": "[encoded data removed]",
      "text/plain": [
       "<Figure size 432x288 with 1 Axes>"
      ]
     },
     "metadata": {
      "needs_background": "light"
     },
     "output_type": "display_data"
    }
   ],
   "source": [
    "plt.hist(allprofit,bins=100)\n",
    "plt.show()"
   ]
  },
  {
   "cell_type": "code",
   "execution_count": 32,
   "metadata": {},
   "outputs": [
    {
     "name": "stdout",
     "output_type": "stream",
     "text": [
      "2021-01-12 00:00:00\n",
      "2021-01-28 00:00:00\n",
      "2021-02-01 00:00:00\n",
      "2021-01-27 00:00:00\n",
      "2021-01-28 00:00:00\n",
      "2021-01-28 00:00:00\n",
      "2021-01-28 00:00:00\n",
      "2021-01-28 00:00:00\n",
      "2021-01-28 00:00:00\n",
      "2021-01-15 00:00:00\n",
      "2021-01-19 00:00:00\n",
      "2021-01-20 00:00:00\n",
      "2021-01-22 00:00:00\n",
      "2021-02-01 00:00:00\n",
      "2021-01-28 00:00:00\n",
      "2021-01-28 00:00:00\n",
      "2021-01-28 00:00:00\n",
      "2021-01-05 00:00:00\n",
      "2021-01-28 00:00:00\n",
      "2021-01-27 00:00:00\n",
      "2021-01-28 00:00:00\n",
      "2021-01-28 00:00:00\n",
      "2021-02-01 00:00:00\n",
      "2021-01-15 00:00:00\n",
      "2021-01-19 00:00:00\n",
      "2021-01-21 00:00:00\n",
      "2021-01-22 00:00:00\n",
      "2021-01-25 00:00:00\n",
      "2021-01-26 00:00:00\n",
      "2021-01-27 00:00:00\n",
      "2021-01-28 00:00:00\n",
      "2021-01-28 00:00:00\n",
      "2021-02-01 00:00:00\n",
      "2021-01-28 00:00:00\n",
      "2021-01-20 00:00:00\n",
      "2021-01-07 00:00:00\n",
      "2021-01-08 00:00:00\n",
      "2021-01-15 00:00:00\n",
      "2021-01-19 00:00:00\n",
      "2021-01-20 00:00:00\n",
      "2021-01-21 00:00:00\n",
      "2021-01-25 00:00:00\n",
      "2021-01-28 00:00:00\n",
      "2021-01-08 00:00:00\n",
      "2021-01-20 00:00:00\n",
      "2021-01-21 00:00:00\n",
      "2021-01-22 00:00:00\n",
      "2021-01-25 00:00:00\n",
      "2021-01-26 00:00:00\n",
      "2021-01-27 00:00:00\n",
      "2021-01-28 00:00:00\n",
      "2021-01-26 00:00:00\n",
      "2021-01-27 00:00:00\n",
      "2021-01-28 00:00:00\n",
      "2021-01-29 00:00:00\n",
      "2021-02-01 00:00:00\n",
      "2021-01-20 00:00:00\n",
      "2021-01-28 00:00:00\n",
      "2021-01-06 00:00:00\n",
      "2021-01-07 00:00:00\n",
      "2021-01-28 00:00:00\n",
      "2021-01-28 00:00:00\n",
      "2021-01-28 00:00:00\n",
      "2021-02-01 00:00:00\n",
      "2021-01-28 00:00:00\n",
      "2021-01-29 00:00:00\n",
      "2021-02-01 00:00:00\n",
      "2021-02-01 00:00:00\n",
      "2021-01-28 00:00:00\n",
      "2021-01-28 00:00:00\n",
      "2021-02-01 00:00:00\n",
      "2021-01-28 00:00:00\n",
      "2021-01-28 00:00:00\n",
      "2021-01-29 00:00:00\n",
      "2021-02-01 00:00:00\n",
      "2021-01-28 00:00:00\n",
      "2021-02-01 00:00:00\n",
      "2021-01-13 00:00:00\n",
      "2021-01-14 00:00:00\n",
      "2021-02-01 00:00:00\n",
      "2021-01-04 00:00:00\n",
      "2021-01-05 00:00:00\n",
      "2021-01-06 00:00:00\n",
      "2021-01-07 00:00:00\n",
      "2021-01-08 00:00:00\n",
      "2021-01-11 00:00:00\n",
      "2021-01-12 00:00:00\n",
      "2021-01-13 00:00:00\n",
      "2021-01-28 00:00:00\n",
      "2021-01-29 00:00:00\n",
      "2021-02-01 00:00:00\n",
      "2021-01-27 00:00:00\n",
      "2021-01-28 00:00:00\n",
      "2021-02-01 00:00:00\n",
      "2021-01-28 00:00:00\n",
      "2021-02-01 00:00:00\n",
      "2021-01-28 00:00:00\n",
      "2021-02-01 00:00:00\n",
      "2021-01-28 00:00:00\n",
      "2021-01-20 00:00:00\n",
      "2021-01-26 00:00:00\n",
      "2021-01-28 00:00:00\n",
      "2021-02-01 00:00:00\n",
      "2021-01-28 00:00:00\n",
      "2021-01-28 00:00:00\n",
      "2021-01-28 00:00:00\n",
      "2021-01-28 00:00:00\n",
      "2021-02-01 00:00:00\n",
      "2021-01-27 00:00:00\n",
      "2021-01-28 00:00:00\n",
      "2021-01-15 00:00:00\n",
      "2021-01-28 00:00:00\n",
      "2021-02-01 00:00:00\n",
      "2021-01-28 00:00:00\n",
      "2021-01-28 00:00:00\n",
      "2021-01-28 00:00:00\n",
      "2021-01-28 00:00:00\n",
      "2021-01-29 00:00:00\n",
      "2021-02-01 00:00:00\n",
      "2021-01-13 00:00:00\n",
      "2021-01-14 00:00:00\n",
      "2021-01-15 00:00:00\n",
      "2021-01-19 00:00:00\n",
      "2021-01-28 00:00:00\n",
      "2021-01-28 00:00:00\n",
      "2021-01-28 00:00:00\n",
      "2021-01-15 00:00:00\n",
      "2021-01-26 00:00:00\n",
      "2021-01-28 00:00:00\n",
      "2021-01-28 00:00:00\n",
      "2021-01-22 00:00:00\n",
      "2021-01-28 00:00:00\n",
      "2021-01-28 00:00:00\n",
      "2021-01-28 00:00:00\n",
      "2021-01-29 00:00:00\n",
      "2021-02-01 00:00:00\n",
      "2021-01-29 00:00:00\n",
      "2021-01-28 00:00:00\n",
      "2021-01-15 00:00:00\n",
      "2021-01-25 00:00:00\n",
      "2021-01-28 00:00:00\n",
      "2021-01-25 00:00:00\n",
      "2021-01-25 00:00:00\n",
      "2021-02-01 00:00:00\n",
      "2021-01-20 00:00:00\n",
      "2021-01-21 00:00:00\n",
      "2021-01-22 00:00:00\n",
      "2021-01-25 00:00:00\n",
      "2021-01-28 00:00:00\n",
      "2021-02-01 00:00:00\n",
      "2021-01-28 00:00:00\n",
      "2021-01-26 00:00:00\n",
      "2021-01-28 00:00:00\n",
      "2021-01-28 00:00:00\n",
      "2021-01-28 00:00:00\n",
      "2021-01-28 00:00:00\n",
      "2021-02-01 00:00:00\n",
      "2021-01-28 00:00:00\n",
      "2021-01-29 00:00:00\n",
      "2021-02-01 00:00:00\n",
      "2021-01-15 00:00:00\n",
      "2021-01-28 00:00:00\n",
      "2021-02-01 00:00:00\n",
      "2021-01-28 00:00:00\n",
      "2021-01-28 00:00:00\n",
      "2021-01-26 00:00:00\n",
      "2021-01-27 00:00:00\n",
      "2021-01-28 00:00:00\n",
      "2021-01-12 00:00:00\n",
      "2021-01-13 00:00:00\n",
      "2021-01-14 00:00:00\n",
      "2021-01-15 00:00:00\n",
      "2021-01-19 00:00:00\n",
      "2021-01-20 00:00:00\n",
      "2021-01-28 00:00:00\n",
      "2021-02-01 00:00:00\n",
      "2021-01-28 00:00:00\n",
      "2021-01-28 00:00:00\n",
      "2021-01-08 00:00:00\n",
      "2021-01-11 00:00:00\n",
      "2021-01-28 00:00:00\n",
      "2021-01-19 00:00:00\n",
      "2021-01-28 00:00:00\n",
      "2021-02-01 00:00:00\n",
      "2021-02-01 00:00:00\n"
     ]
    }
   ],
   "source": [
    "for i in matrixsignals:\n",
    "    for e in i:\n",
    "        if e.year == 2021:\n",
    "            print(e)"
   ]
  },
  {
   "cell_type": "code",
   "execution_count": null,
   "metadata": {},
   "outputs": [],
   "source": [
    "\n"
   ]
  }
 ],
 "metadata": {
  "kernelspec": {
   "display_name": "Python 3",
   "language": "python",
   "name": "python3"
  },
  "language_info": {
   "codemirror_mode": {
    "name": "ipython",
    "version": 3
   },
   "file_extension": ".py",
   "mimetype": "text/x-python",
   "name": "python",
   "nbconvert_exporter": "python",
   "pygments_lexer": "ipython3",
   "version": "3.7.6"
  }
 },
 "nbformat": 4,
 "nbformat_minor": 2
}
